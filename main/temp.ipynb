{
 "cells": [
  {
   "cell_type": "code",
   "execution_count": 3,
   "metadata": {},
   "outputs": [],
   "source": [
    "import pandas as pd"
   ]
  },
  {
   "cell_type": "code",
   "execution_count": 4,
   "metadata": {},
   "outputs": [],
   "source": [
    "df = pd.read_csv('../media/group_6.csv')"
   ]
  },
  {
   "cell_type": "code",
   "execution_count": 4,
   "metadata": {},
   "outputs": [
    {
     "data": {
      "text/html": [
       "<div>\n",
       "<style scoped>\n",
       "    .dataframe tbody tr th:only-of-type {\n",
       "        vertical-align: middle;\n",
       "    }\n",
       "\n",
       "    .dataframe tbody tr th {\n",
       "        vertical-align: top;\n",
       "    }\n",
       "\n",
       "    .dataframe thead th {\n",
       "        text-align: right;\n",
       "    }\n",
       "</style>\n",
       "<table border=\"1\" class=\"dataframe\">\n",
       "  <thead>\n",
       "    <tr style=\"text-align: right;\">\n",
       "      <th></th>\n",
       "      <th>Date</th>\n",
       "      <th>F0098 Body Mass</th>\n",
       "      <th>F0098 Weight Lifted</th>\n",
       "      <th>F0099 Body Mass</th>\n",
       "      <th>F0099 Weight Lifted</th>\n",
       "      <th>F0100 Body Mass</th>\n",
       "      <th>F0100 Weight Lifted</th>\n",
       "    </tr>\n",
       "  </thead>\n",
       "  <tbody>\n",
       "    <tr>\n",
       "      <th>0</th>\n",
       "      <td>05/01/24</td>\n",
       "      <td>0</td>\n",
       "      <td>5</td>\n",
       "      <td>0</td>\n",
       "      <td>5</td>\n",
       "      <td>0</td>\n",
       "      <td>5</td>\n",
       "    </tr>\n",
       "    <tr>\n",
       "      <th>1</th>\n",
       "      <td>05/02/24</td>\n",
       "      <td>5</td>\n",
       "      <td>10</td>\n",
       "      <td>5</td>\n",
       "      <td>10</td>\n",
       "      <td>5</td>\n",
       "      <td>10</td>\n",
       "    </tr>\n",
       "  </tbody>\n",
       "</table>\n",
       "</div>"
      ],
      "text/plain": [
       "       Date  F0098 Body Mass  F0098 Weight Lifted  F0099 Body Mass  \\\n",
       "0  05/01/24                0                    5                0   \n",
       "1  05/02/24                5                   10                5   \n",
       "\n",
       "   F0099 Weight Lifted  F0100 Body Mass  F0100 Weight Lifted  \n",
       "0                    5                0                    5  \n",
       "1                   10                5                   10  "
      ]
     },
     "execution_count": 4,
     "metadata": {},
     "output_type": "execute_result"
    }
   ],
   "source": [
    "df"
   ]
  },
  {
   "cell_type": "code",
   "execution_count": 7,
   "metadata": {},
   "outputs": [],
   "source": [
    "columns = df.columns\n",
    "columns = columns[1:]"
   ]
  },
  {
   "cell_type": "code",
   "execution_count": 9,
   "metadata": {},
   "outputs": [
    {
     "data": {
      "text/plain": [
       "Index(['F0098 Body Mass', 'F0098 Weight Lifted', 'F0099 Body Mass',\n",
       "       'F0099 Weight Lifted', 'F0100 Body Mass', 'F0100 Weight Lifted'],\n",
       "      dtype='object')"
      ]
     },
     "execution_count": 9,
     "metadata": {},
     "output_type": "execute_result"
    }
   ],
   "source": [
    "columns"
   ]
  },
  {
   "cell_type": "code",
   "execution_count": 11,
   "metadata": {},
   "outputs": [
    {
     "data": {
      "text/plain": [
       "{'F0098 Body Mass': {'05/01/24': 0, '05/02/24': 5},\n",
       " 'F0098 Weight Lifted': {'05/01/24': 5, '05/02/24': 10},\n",
       " 'F0099 Body Mass': {'05/01/24': 0, '05/02/24': 5},\n",
       " 'F0099 Weight Lifted': {'05/01/24': 5, '05/02/24': 10},\n",
       " 'F0100 Body Mass': {'05/01/24': 0, '05/02/24': 5},\n",
       " 'F0100 Weight Lifted': {'05/01/24': 5, '05/02/24': 10}}"
      ]
     },
     "execution_count": 11,
     "metadata": {},
     "output_type": "execute_result"
    }
   ],
   "source": [
    "df.set_index('Date').to_dict()"
   ]
  },
  {
   "cell_type": "code",
   "execution_count": 5,
   "metadata": {},
   "outputs": [],
   "source": [
    "dates_data = {\n",
    "            '05/01/24': {\n",
    "                'F0098': {'body_mass': '0', 'weight_lifted': '5'},\n",
    "                'F0099': {'body_mass': '0', 'weight_lifted': '5'},\n",
    "                'F0100': {'body_mass': '0', 'weight_lifted': '5'},\n",
    "            },\n",
    "            '05/02/24': {\n",
    "                'F0098': {'body_mass': '5', 'weight_lifted': '10'},\n",
    "                'F0099': {'body_mass': '5', 'weight_lifted': '10'},\n",
    "                'F0100': {'body_mass': '5', 'weight_lifted': '10'},\n",
    "            },\n",
    "        }"
   ]
  },
  {
   "cell_type": "code",
   "execution_count": 7,
   "metadata": {},
   "outputs": [
    {
     "data": {
      "text/plain": [
       "Index(['F0098', 'F0099', 'F0100'], dtype='object')"
      ]
     },
     "execution_count": 7,
     "metadata": {},
     "output_type": "execute_result"
    }
   ],
   "source": [
    "pd.DataFrame(dates_data).index"
   ]
  },
  {
   "cell_type": "code",
   "execution_count": null,
   "metadata": {},
   "outputs": [],
   "source": []
  }
 ],
 "metadata": {
  "kernelspec": {
   "display_name": "cmrg",
   "language": "python",
   "name": "python3"
  },
  "language_info": {
   "codemirror_mode": {
    "name": "ipython",
    "version": 3
   },
   "file_extension": ".py",
   "mimetype": "text/x-python",
   "name": "python",
   "nbconvert_exporter": "python",
   "pygments_lexer": "ipython3",
   "version": "3.12.3"
  }
 },
 "nbformat": 4,
 "nbformat_minor": 2
}
